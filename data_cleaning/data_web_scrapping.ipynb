{
 "cells": [
  {
   "cell_type": "code",
   "execution_count": 1,
   "id": "320993cb",
   "metadata": {},
   "outputs": [],
   "source": [
    "import requests\n",
    "from bs4 import BeautifulSoup\n",
    "import pandas as pd"
   ]
  },
  {
   "cell_type": "code",
   "execution_count": 2,
   "id": "224fbd76",
   "metadata": {},
   "outputs": [],
   "source": [
    "url = \"https://www.ncbi.nlm.nih.gov/pmc/articles/PMC5082682/#pone.0164025.ref029\"\n",
    "resp = requests.get(url)"
   ]
  },
  {
   "cell_type": "code",
   "execution_count": 3,
   "id": "43a05107",
   "metadata": {},
   "outputs": [
    {
     "data": {
      "text/plain": [
       "200"
      ]
     },
     "execution_count": 3,
     "metadata": {},
     "output_type": "execute_result"
    }
   ],
   "source": [
    "resp.status_code"
   ]
  },
  {
   "cell_type": "code",
   "execution_count": 4,
   "id": "e06d32e6",
   "metadata": {},
   "outputs": [],
   "source": [
    "html = resp.text"
   ]
  },
  {
   "cell_type": "code",
   "execution_count": 5,
   "id": "7b8ba7db",
   "metadata": {},
   "outputs": [],
   "source": [
    "html = BeautifulSoup(html)"
   ]
  },
  {
   "cell_type": "code",
   "execution_count": 6,
   "id": "3bffc5ae",
   "metadata": {},
   "outputs": [
    {
     "data": {
      "text/plain": [
       "[<th align=\"left\" colspan=\"1\" rowspan=\"1\">Season</th>,\n",
       " <th align=\"center\" colspan=\"1\" rowspan=\"1\">Adélie breeding pairs</th>,\n",
       " <th align=\"center\" colspan=\"1\" rowspan=\"1\">Date of pair count</th>,\n",
       " <th align=\"center\" colspan=\"1\" rowspan=\"1\">Chinstrap breeding pairs</th>,\n",
       " <th align=\"center\" colspan=\"1\" rowspan=\"1\">Date of pair count</th>,\n",
       " <th align=\"center\" colspan=\"1\" rowspan=\"1\">Gentoo breeding pairs</th>,\n",
       " <th align=\"center\" colspan=\"1\" rowspan=\"1\">Date of pair count</th>]"
      ]
     },
     "execution_count": 6,
     "metadata": {},
     "output_type": "execute_result"
    }
   ],
   "source": [
    "html.select(\"#pone\\.0164025\\.t002 > div.xtable thead tr th\")"
   ]
  },
  {
   "cell_type": "code",
   "execution_count": 7,
   "id": "8707f527",
   "metadata": {},
   "outputs": [
    {
     "data": {
      "text/plain": [
       "['Season',\n",
       " 'Adélie breeding pairs',\n",
       " 'Date of pair count',\n",
       " 'Chinstrap breeding pairs',\n",
       " 'Date of pair count',\n",
       " 'Gentoo breeding pairs',\n",
       " 'Date of pair count']"
      ]
     },
     "execution_count": 7,
     "metadata": {},
     "output_type": "execute_result"
    }
   ],
   "source": [
    "column_names = [row.get_text() for row in html.select(\"#pone\\.0164025\\.t002 > div.xtable thead tr th\")]\n",
    "column_names"
   ]
  },
  {
   "cell_type": "code",
   "execution_count": 8,
   "id": "e0173940",
   "metadata": {},
   "outputs": [],
   "source": [
    "#html.select(\"#pone\\.0164025\\.t002 > div.xtable tbody tr td\")"
   ]
  },
  {
   "cell_type": "code",
   "execution_count": 9,
   "id": "52df13be",
   "metadata": {},
   "outputs": [
    {
     "data": {
      "text/plain": [
       "['1978/79',\n",
       " '1873',\n",
       " '5 Dec.1978',\n",
       " '2050',\n",
       " '14 Dec. 1978',\n",
       " '370',\n",
       " '26 Nov. 1978']"
      ]
     },
     "execution_count": 9,
     "metadata": {},
     "output_type": "execute_result"
    }
   ],
   "source": [
    "data = [[e.get_text(strip=True) for e in row.select(\"td\")] for row in html.select(\"#pone\\.0164025\\.t002 > div.xtable tbody tr\")]\n",
    "data[0]"
   ]
  },
  {
   "cell_type": "code",
   "execution_count": 10,
   "id": "ededc045",
   "metadata": {},
   "outputs": [],
   "source": [
    "df = pd.DataFrame(data, columns=column_names)"
   ]
  },
  {
   "cell_type": "code",
   "execution_count": 11,
   "id": "f8983f62",
   "metadata": {},
   "outputs": [
    {
     "data": {
      "text/html": [
       "<div>\n",
       "<style scoped>\n",
       "    .dataframe tbody tr th:only-of-type {\n",
       "        vertical-align: middle;\n",
       "    }\n",
       "\n",
       "    .dataframe tbody tr th {\n",
       "        vertical-align: top;\n",
       "    }\n",
       "\n",
       "    .dataframe thead th {\n",
       "        text-align: right;\n",
       "    }\n",
       "</style>\n",
       "<table border=\"1\" class=\"dataframe\">\n",
       "  <thead>\n",
       "    <tr style=\"text-align: right;\">\n",
       "      <th></th>\n",
       "      <th>Season</th>\n",
       "      <th>Adélie breeding pairs</th>\n",
       "      <th>Date of pair count</th>\n",
       "      <th>Chinstrap breeding pairs</th>\n",
       "      <th>Date of pair count</th>\n",
       "      <th>Gentoo breeding pairs</th>\n",
       "      <th>Date of pair count</th>\n",
       "    </tr>\n",
       "  </thead>\n",
       "  <tbody>\n",
       "    <tr>\n",
       "      <th>0</th>\n",
       "      <td>1978/79</td>\n",
       "      <td>1873</td>\n",
       "      <td>5 Dec.1978</td>\n",
       "      <td>2050</td>\n",
       "      <td>14 Dec. 1978</td>\n",
       "      <td>370</td>\n",
       "      <td>26 Nov. 1978</td>\n",
       "    </tr>\n",
       "    <tr>\n",
       "      <th>1</th>\n",
       "      <td>1979/80</td>\n",
       "      <td>2269</td>\n",
       "      <td>16 Nov. 1979</td>\n",
       "      <td>2253</td>\n",
       "      <td>08 Dec. 1979</td>\n",
       "      <td>303</td>\n",
       "      <td>19 Nov. 1979</td>\n",
       "    </tr>\n",
       "    <tr>\n",
       "      <th>2</th>\n",
       "      <td>1980/81</td>\n",
       "      <td>1726</td>\n",
       "      <td>11 Nov. 1980</td>\n",
       "      <td>1809</td>\n",
       "      <td>29 Dec. 1980</td>\n",
       "      <td>330</td>\n",
       "      <td>11 Nov. 1980</td>\n",
       "    </tr>\n",
       "    <tr>\n",
       "      <th>3</th>\n",
       "      <td>1981/82</td>\n",
       "      <td>1831</td>\n",
       "      <td>22 Nov. 1981</td>\n",
       "      <td>2250</td>\n",
       "      <td>25 Dec. 1981</td>\n",
       "      <td>341</td>\n",
       "      <td>22 Nov. 1981</td>\n",
       "    </tr>\n",
       "    <tr>\n",
       "      <th>4</th>\n",
       "      <td>1982/83</td>\n",
       "      <td>2631</td>\n",
       "      <td>19 Nov. 1982</td>\n",
       "      <td>2334</td>\n",
       "      <td>04 Dec. 1982</td>\n",
       "      <td>299</td>\n",
       "      <td>21 Nov. 1982</td>\n",
       "    </tr>\n",
       "  </tbody>\n",
       "</table>\n",
       "</div>"
      ],
      "text/plain": [
       "    Season Adélie breeding pairs Date of pair count Chinstrap breeding pairs  \\\n",
       "0  1978/79                  1873         5 Dec.1978                     2050   \n",
       "1  1979/80                  2269       16 Nov. 1979                     2253   \n",
       "2  1980/81                  1726       11 Nov. 1980                     1809   \n",
       "3  1981/82                  1831       22 Nov. 1981                     2250   \n",
       "4  1982/83                  2631       19 Nov. 1982                     2334   \n",
       "\n",
       "  Date of pair count Gentoo breeding pairs Date of pair count  \n",
       "0       14 Dec. 1978                   370       26 Nov. 1978  \n",
       "1       08 Dec. 1979                   303       19 Nov. 1979  \n",
       "2       29 Dec. 1980                   330       11 Nov. 1980  \n",
       "3       25 Dec. 1981                   341       22 Nov. 1981  \n",
       "4       04 Dec. 1982                   299       21 Nov. 1982  "
      ]
     },
     "execution_count": 11,
     "metadata": {},
     "output_type": "execute_result"
    }
   ],
   "source": [
    "df.head()"
   ]
  },
  {
   "cell_type": "code",
   "execution_count": 12,
   "id": "1598dc67",
   "metadata": {},
   "outputs": [
    {
     "data": {
      "text/plain": [
       "Season                      object\n",
       "Adélie breeding pairs       object\n",
       "Date of pair count          object\n",
       "Chinstrap breeding pairs    object\n",
       "Date of pair count          object\n",
       "Gentoo breeding pairs       object\n",
       "Date of pair count          object\n",
       "dtype: object"
      ]
     },
     "execution_count": 12,
     "metadata": {},
     "output_type": "execute_result"
    }
   ],
   "source": [
    "df.dtypes"
   ]
  },
  {
   "cell_type": "code",
   "execution_count": 13,
   "id": "b36ca0bf",
   "metadata": {},
   "outputs": [],
   "source": [
    "import requests\n",
    "from bs4 import BeautifulSoup\n",
    "import pandas as pd\n",
    "\n",
    "def get_table(number):\n",
    "    \n",
    "    if not (number == 2 or number == 3):\n",
    "        return \"Working with just two tables, 2 or 3\"\n",
    "    #request \n",
    "    url = \"https://www.ncbi.nlm.nih.gov/pmc/articles/PMC5082682/#pone.0164025.ref029\"\n",
    "    resp = requests.get(url)\n",
    "    html = BeautifulSoup(resp.text)\n",
    "    #pone\\.0164025\\.t001 is a constant selector for each table \n",
    "    table_link = f\"#pone\\.0164025\\.t00{number}\"\n",
    "    \n",
    "    #getting columns of the table \n",
    "    column_names = [row.get_text() for row in html.select(f\"{table_link} > div.xtable thead tr th\")]\n",
    "    column_names\n",
    "    #getting data from table \n",
    "    data = [[e.get_text(strip=True) for e in row.select(\"td\")] for row in html.select(f\"{table_link} > div.xtable tbody tr\")]\n",
    "    data = pd.DataFrame(data, columns=column_names)\n",
    "    \n",
    "    #cleaning data\n",
    "    \n",
    "    def format_value(value):\n",
    "        if value == \"No data\":\n",
    "            return float(0.6)\n",
    "        else:\n",
    "            return float(value)\n",
    "            \n",
    "        \n",
    "    data = data.drop(columns=[column_names[2], column_names[4], column_names[6]])\n",
    "    data[\"Season\"] = data[\"Season\"].apply(lambda x: int(x.split(\"/\")[0]))\n",
    "    for n in range(1,6,2):\n",
    "         data[column_names[n]] = data[column_names[n]].apply(format_value)\n",
    "        \n",
    "    return data "
   ]
  },
  {
   "cell_type": "code",
   "execution_count": 14,
   "id": "180f859f",
   "metadata": {},
   "outputs": [],
   "source": [
    "table2 = get_table(2)"
   ]
  },
  {
   "cell_type": "code",
   "execution_count": 15,
   "id": "8427ce85",
   "metadata": {},
   "outputs": [
    {
     "data": {
      "text/html": [
       "<div>\n",
       "<style scoped>\n",
       "    .dataframe tbody tr th:only-of-type {\n",
       "        vertical-align: middle;\n",
       "    }\n",
       "\n",
       "    .dataframe tbody tr th {\n",
       "        vertical-align: top;\n",
       "    }\n",
       "\n",
       "    .dataframe thead th {\n",
       "        text-align: right;\n",
       "    }\n",
       "</style>\n",
       "<table border=\"1\" class=\"dataframe\">\n",
       "  <thead>\n",
       "    <tr style=\"text-align: right;\">\n",
       "      <th></th>\n",
       "      <th>Season</th>\n",
       "      <th>Adélie breeding pairs</th>\n",
       "      <th>Chinstrap breeding pairs</th>\n",
       "      <th>Gentoo breeding pairs</th>\n",
       "    </tr>\n",
       "  </thead>\n",
       "  <tbody>\n",
       "    <tr>\n",
       "      <th>0</th>\n",
       "      <td>1978</td>\n",
       "      <td>1873.0</td>\n",
       "      <td>2050.0</td>\n",
       "      <td>370.0</td>\n",
       "    </tr>\n",
       "    <tr>\n",
       "      <th>1</th>\n",
       "      <td>1979</td>\n",
       "      <td>2269.0</td>\n",
       "      <td>2253.0</td>\n",
       "      <td>303.0</td>\n",
       "    </tr>\n",
       "    <tr>\n",
       "      <th>2</th>\n",
       "      <td>1980</td>\n",
       "      <td>1726.0</td>\n",
       "      <td>1809.0</td>\n",
       "      <td>330.0</td>\n",
       "    </tr>\n",
       "    <tr>\n",
       "      <th>3</th>\n",
       "      <td>1981</td>\n",
       "      <td>1831.0</td>\n",
       "      <td>2250.0</td>\n",
       "      <td>341.0</td>\n",
       "    </tr>\n",
       "    <tr>\n",
       "      <th>4</th>\n",
       "      <td>1982</td>\n",
       "      <td>2631.0</td>\n",
       "      <td>2334.0</td>\n",
       "      <td>299.0</td>\n",
       "    </tr>\n",
       "  </tbody>\n",
       "</table>\n",
       "</div>"
      ],
      "text/plain": [
       "   Season  Adélie breeding pairs  Chinstrap breeding pairs  \\\n",
       "0    1978                 1873.0                    2050.0   \n",
       "1    1979                 2269.0                    2253.0   \n",
       "2    1980                 1726.0                    1809.0   \n",
       "3    1981                 1831.0                    2250.0   \n",
       "4    1982                 2631.0                    2334.0   \n",
       "\n",
       "   Gentoo breeding pairs  \n",
       "0                  370.0  \n",
       "1                  303.0  \n",
       "2                  330.0  \n",
       "3                  341.0  \n",
       "4                  299.0  "
      ]
     },
     "execution_count": 15,
     "metadata": {},
     "output_type": "execute_result"
    }
   ],
   "source": [
    "table2.head()"
   ]
  },
  {
   "cell_type": "code",
   "execution_count": 16,
   "id": "25d69fee",
   "metadata": {},
   "outputs": [
    {
     "data": {
      "text/plain": [
       "Season                        int64\n",
       "Adélie breeding pairs       float64\n",
       "Chinstrap breeding pairs    float64\n",
       "Gentoo breeding pairs       float64\n",
       "dtype: object"
      ]
     },
     "execution_count": 16,
     "metadata": {},
     "output_type": "execute_result"
    }
   ],
   "source": [
    "table2.dtypes"
   ]
  },
  {
   "cell_type": "code",
   "execution_count": 17,
   "id": "0342229e",
   "metadata": {},
   "outputs": [
    {
     "data": {
      "text/plain": [
       "Season                      0\n",
       "Adélie breeding pairs       0\n",
       "Chinstrap breeding pairs    0\n",
       "Gentoo breeding pairs       0\n",
       "dtype: int64"
      ]
     },
     "execution_count": 17,
     "metadata": {},
     "output_type": "execute_result"
    }
   ],
   "source": [
    "table2.isna().sum()"
   ]
  },
  {
   "cell_type": "code",
   "execution_count": 19,
   "id": "8559951b",
   "metadata": {},
   "outputs": [],
   "source": [
    "table3 = get_table(3)"
   ]
  },
  {
   "cell_type": "code",
   "execution_count": 20,
   "id": "ba64bfab",
   "metadata": {},
   "outputs": [
    {
     "data": {
      "text/html": [
       "<div>\n",
       "<style scoped>\n",
       "    .dataframe tbody tr th:only-of-type {\n",
       "        vertical-align: middle;\n",
       "    }\n",
       "\n",
       "    .dataframe tbody tr th {\n",
       "        vertical-align: top;\n",
       "    }\n",
       "\n",
       "    .dataframe thead th {\n",
       "        text-align: right;\n",
       "    }\n",
       "</style>\n",
       "<table border=\"1\" class=\"dataframe\">\n",
       "  <thead>\n",
       "    <tr style=\"text-align: right;\">\n",
       "      <th></th>\n",
       "      <th>Season</th>\n",
       "      <th>Adélie chicks fledged per pair</th>\n",
       "      <th>Chinstrap chicks fledged per pair</th>\n",
       "      <th>Gentoo chicks fledged per pair</th>\n",
       "    </tr>\n",
       "  </thead>\n",
       "  <tbody>\n",
       "    <tr>\n",
       "      <th>0</th>\n",
       "      <td>1978</td>\n",
       "      <td>0.60</td>\n",
       "      <td>1.27</td>\n",
       "      <td>0.60</td>\n",
       "    </tr>\n",
       "    <tr>\n",
       "      <th>1</th>\n",
       "      <td>1979</td>\n",
       "      <td>0.50</td>\n",
       "      <td>0.24</td>\n",
       "      <td>0.63</td>\n",
       "    </tr>\n",
       "    <tr>\n",
       "      <th>2</th>\n",
       "      <td>1980</td>\n",
       "      <td>0.86</td>\n",
       "      <td>0.05</td>\n",
       "      <td>0.44</td>\n",
       "    </tr>\n",
       "    <tr>\n",
       "      <th>3</th>\n",
       "      <td>1981</td>\n",
       "      <td>1.05</td>\n",
       "      <td>0.72</td>\n",
       "      <td>1.51</td>\n",
       "    </tr>\n",
       "    <tr>\n",
       "      <th>4</th>\n",
       "      <td>1982</td>\n",
       "      <td>0.73</td>\n",
       "      <td>0.74</td>\n",
       "      <td>1.07</td>\n",
       "    </tr>\n",
       "  </tbody>\n",
       "</table>\n",
       "</div>"
      ],
      "text/plain": [
       "   Season  Adélie chicks fledged per pair  Chinstrap chicks fledged per pair  \\\n",
       "0    1978                            0.60                               1.27   \n",
       "1    1979                            0.50                               0.24   \n",
       "2    1980                            0.86                               0.05   \n",
       "3    1981                            1.05                               0.72   \n",
       "4    1982                            0.73                               0.74   \n",
       "\n",
       "   Gentoo chicks fledged per pair  \n",
       "0                            0.60  \n",
       "1                            0.63  \n",
       "2                            0.44  \n",
       "3                            1.51  \n",
       "4                            1.07  "
      ]
     },
     "execution_count": 20,
     "metadata": {},
     "output_type": "execute_result"
    }
   ],
   "source": [
    "table3.head()"
   ]
  },
  {
   "cell_type": "code",
   "execution_count": 21,
   "id": "d61f90b4",
   "metadata": {},
   "outputs": [
    {
     "data": {
      "text/plain": [
       "Season                                 int64\n",
       "Adélie chicks fledged per pair       float64\n",
       "Chinstrap chicks fledged per pair    float64\n",
       "Gentoo chicks fledged per pair       float64\n",
       "dtype: object"
      ]
     },
     "execution_count": 21,
     "metadata": {},
     "output_type": "execute_result"
    }
   ],
   "source": [
    "table3.dtypes"
   ]
  },
  {
   "cell_type": "code",
   "execution_count": 22,
   "id": "605de1de",
   "metadata": {},
   "outputs": [
    {
     "data": {
      "text/plain": [
       "Season                               0\n",
       "Adélie chicks fledged per pair       0\n",
       "Chinstrap chicks fledged per pair    0\n",
       "Gentoo chicks fledged per pair       0\n",
       "dtype: int64"
      ]
     },
     "execution_count": 22,
     "metadata": {},
     "output_type": "execute_result"
    }
   ],
   "source": [
    "table3.isna().sum()"
   ]
  },
  {
   "cell_type": "code",
   "execution_count": 23,
   "id": "ca8b895a",
   "metadata": {},
   "outputs": [],
   "source": [
    "table2.to_csv('../data/breeding_pairs.csv')\n",
    "table3.to_csv('../data/chicks_pairs.csv')"
   ]
  }
 ],
 "metadata": {
  "kernelspec": {
   "display_name": "Python 3 (ipykernel)",
   "language": "python",
   "name": "python3"
  },
  "language_info": {
   "codemirror_mode": {
    "name": "ipython",
    "version": 3
   },
   "file_extension": ".py",
   "mimetype": "text/x-python",
   "name": "python",
   "nbconvert_exporter": "python",
   "pygments_lexer": "ipython3",
   "version": "3.8.12"
  }
 },
 "nbformat": 4,
 "nbformat_minor": 5
}
